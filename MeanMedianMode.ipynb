{
 "cells": [
  {
   "cell_type": "markdown",
   "metadata": {},
   "source": [
    "# Mean, Median, Mode, and introducing NumPy"
   ]
  },
  {
   "cell_type": "markdown",
   "metadata": {},
   "source": [
    "## Mean vs. Median"
   ]
  },
  {
   "cell_type": "markdown",
   "metadata": {},
   "source": [
    "Let's create some fake income data, centered around 27,000 with a normal distribution and standard deviation of 15,000, with 10,000 data points. (We'll discuss those terms more later, if you're not familiar with them.)\n",
    "\n",
    "Then, compute the mean (average) - it should be close to 27,000:"
   ]
  },
  {
   "cell_type": "code",
   "execution_count": 1,
   "metadata": {},
   "outputs": [
    {
     "data": {
      "text/plain": [
       "27083.103074198138"
      ]
     },
     "execution_count": 1,
     "metadata": {},
     "output_type": "execute_result"
    }
   ],
   "source": [
    "import numpy as np\n",
    "\n",
    "incomes = np.random.normal(27000, 15000, 10000)\n",
    "np.mean(incomes)"
   ]
  },
  {
   "cell_type": "markdown",
   "metadata": {},
   "source": [
    "We can segment the income data into 50 buckets, and plot it as a histogram:"
   ]
  },
  {
   "cell_type": "code",
   "execution_count": 2,
   "metadata": {},
   "outputs": [
    {
     "data": {
      "image/png": "[encoded data removed]",
      "text/plain": [
       "<Figure size 432x288 with 1 Axes>"
      ]
     },
     "metadata": {
      "needs_background": "light"
     },
     "output_type": "display_data"
    }
   ],
   "source": [
    "%matplotlib inline\n",
    "import matplotlib.pyplot as plt\n",
    "plt.hist(incomes, 50)\n",
    "plt.show()"
   ]
  },
  {
   "cell_type": "markdown",
   "metadata": {},
   "source": [
    "Now compute the median - since we have a nice, even distribution it too should be close to 27,000:"
   ]
  },
  {
   "cell_type": "code",
   "execution_count": 3,
   "metadata": {},
   "outputs": [
    {
     "data": {
      "text/plain": [
       "27102.032496165222"
      ]
     },
     "execution_count": 3,
     "metadata": {},
     "output_type": "execute_result"
    }
   ],
   "source": [
    "np.median(incomes)"
   ]
  },
  {
   "cell_type": "markdown",
   "metadata": {},
   "source": [
    "Now we'll add Donald Trump into the mix. Darn income inequality!"
   ]
  },
  {
   "cell_type": "code",
   "execution_count": 4,
   "metadata": {},
   "outputs": [],
   "source": [
    "incomes = np.append(incomes, [1000000000])"
   ]
  },
  {
   "cell_type": "markdown",
   "metadata": {},
   "source": [
    "The median won't change much, but the mean does:"
   ]
  },
  {
   "cell_type": "code",
   "execution_count": 5,
   "metadata": {},
   "outputs": [
    {
     "data": {
      "text/plain": [
       "27106.671849828042"
      ]
     },
     "execution_count": 5,
     "metadata": {},
     "output_type": "execute_result"
    }
   ],
   "source": [
    "np.median(incomes)"
   ]
  },
  {
   "cell_type": "code",
   "execution_count": 6,
   "metadata": {},
   "outputs": [
    {
     "data": {
      "text/plain": [
       "127070.39603459467"
      ]
     },
     "execution_count": 6,
     "metadata": {},
     "output_type": "execute_result"
    }
   ],
   "source": [
    "np.mean(incomes)"
   ]
  },
  {
   "cell_type": "markdown",
   "metadata": {},
   "source": [
    "## Mode"
   ]
  },
  {
   "cell_type": "markdown",
   "metadata": {},
   "source": [
    "Next, let's generate some fake age data for 500 people:"
   ]
  },
  {
   "cell_type": "code",
   "execution_count": 7,
   "metadata": {},
   "outputs": [
    {
     "data": {
      "text/plain": [
       "array([74, 69, 54, 20, 50, 81, 80, 66, 58, 79, 42, 46, 77, 70, 19, 57, 45,\n",
       "       56, 53, 53, 20, 35, 44, 36, 60, 64, 42, 37, 78, 58, 87, 27, 88, 27,\n",
       "       77, 33, 85, 19, 53, 76, 23, 69, 50, 84, 54, 61, 74, 78, 19, 89, 23,\n",
       "       70, 58, 24, 38, 65, 65, 39, 86, 36, 59, 76, 47, 31, 76, 30, 85, 53,\n",
       "       81, 25, 58, 87, 76, 30, 33, 72, 48, 88, 38, 46, 50, 62, 22, 51, 34,\n",
       "       54, 44, 42, 49, 81, 26, 29, 63, 19, 38, 35, 55, 19, 78, 61, 63, 28,\n",
       "       29, 86, 89, 62, 78, 75, 46, 46, 59, 20, 73, 60, 65, 37, 59, 40, 21,\n",
       "       34, 89, 59, 87, 23, 65, 23, 51, 57, 66, 44, 47, 20, 66, 64, 26, 19,\n",
       "       72, 64, 68, 46, 33, 58, 46, 78, 78, 46, 56, 59, 71, 23, 32, 49, 38,\n",
       "       69, 50, 21, 23, 46, 36, 78, 41, 60, 47, 83, 33, 66, 39, 61, 51, 27,\n",
       "       72, 89, 47, 70, 56, 35, 73, 39, 22, 67, 60, 59, 69, 58, 38, 32, 52,\n",
       "       66, 23, 89, 88, 27, 87, 70, 80, 44, 20, 63, 24, 53, 23, 52, 73, 36,\n",
       "       51, 48, 64, 34, 68, 54, 32, 50, 34, 71, 34, 27, 71, 86, 75, 26, 59,\n",
       "       52, 53, 80, 43, 37, 66, 70, 62, 68, 68, 60, 89, 22, 22, 24, 69, 42,\n",
       "       67, 33, 68, 60, 19, 67, 66, 87, 29, 39, 75, 77, 75, 82, 86, 29, 84,\n",
       "       20, 70, 37, 80, 34, 70, 23, 24, 40, 56, 73, 72, 64, 80, 18, 64, 22,\n",
       "       39, 68, 83, 61, 57, 77, 50, 84, 36, 59, 60, 67, 30, 53, 46, 47, 55,\n",
       "       39, 48, 88, 46, 81, 43, 62, 35, 67, 69, 27, 65, 25, 71, 65, 26, 51,\n",
       "       80, 65, 27, 81, 48, 40, 82, 26, 42, 56, 25, 32, 36, 64, 87, 43, 61,\n",
       "       73, 35, 24, 70, 76, 22, 35, 41, 42, 37, 78, 43, 19, 57, 47, 32, 41,\n",
       "       52, 56, 52, 51, 60, 75, 29, 44, 24, 65, 85, 39, 77, 38, 71, 34, 45,\n",
       "       46, 72, 54, 31, 20, 47, 79, 79, 67, 59, 31, 19, 39, 62, 79, 28, 54,\n",
       "       74, 88, 76, 82, 53, 41, 29, 52, 83, 40, 32, 59, 34, 48, 56, 65, 82,\n",
       "       27, 66, 73, 86, 30, 62, 87, 55, 34, 52, 84, 18, 62, 80, 59, 67, 85,\n",
       "       82, 56, 73, 57, 22, 49, 83, 40, 62, 55, 75, 62, 64, 46, 69, 47, 49,\n",
       "       36, 61, 29, 36, 31, 82, 45, 58, 56, 56, 53, 56, 49, 80, 55, 58, 48,\n",
       "       38, 89, 36, 66, 69, 59, 33, 22, 87, 36, 58, 34, 65, 32, 51, 58, 84,\n",
       "       28, 37, 18, 63, 27, 76, 28, 85, 67, 67, 38, 75, 23, 71, 41, 54, 38,\n",
       "       70, 32, 25, 18, 88, 44, 42, 57, 70, 35, 45, 28, 88, 67, 67, 46, 57,\n",
       "       32, 58, 70, 40, 82, 66, 28])"
      ]
     },
     "execution_count": 7,
     "metadata": {},
     "output_type": "execute_result"
    }
   ],
   "source": [
    "ages = np.random.randint(18, high=90, size=500)\n",
    "ages"
   ]
  },
  {
   "cell_type": "code",
   "execution_count": 8,
   "metadata": {},
   "outputs": [
    {
     "data": {
      "text/plain": [
       "ModeResult(mode=array([46]), count=array([13]))"
      ]
     },
     "execution_count": 8,
     "metadata": {},
     "output_type": "execute_result"
    }
   ],
   "source": [
    "from scipy import stats\n",
    "stats.mode(ages)"
   ]
  },
  {
   "cell_type": "code",
   "execution_count": null,
   "metadata": {},
   "outputs": [],
   "source": []
  }
 ],
 "metadata": {
  "kernelspec": {
   "display_name": "Python 3",
   "language": "python",
   "name": "python3"
  },
  "language_info": {
   "codemirror_mode": {
    "name": "ipython",
    "version": 3
   },
   "file_extension": ".py",
   "mimetype": "text/x-python",
   "name": "python",
   "nbconvert_exporter": "python",
   "pygments_lexer": "ipython3",
   "version": "3.7.0"
  }
 },
 "nbformat": 4,
 "nbformat_minor": 1
}
